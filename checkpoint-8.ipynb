{
 "cells": [
  {
   "cell_type": "code",
   "execution_count": 1,
   "id": "87286952",
   "metadata": {},
   "outputs": [
    {
     "name": "stdout",
     "output_type": "stream",
     "text": [
      "Search: covid 19\n",
      "Other names  ::  COVID, (the) coronavirus\n",
      "--------------------\n",
      "Pronunciation  ::  /kəˈroʊnəvaɪrəs//ˌkoʊvɪdnaɪnˈtiːn, ˌkɒvɪd-/[1] \n",
      "--------------------\n",
      "Specialty  ::  Infectious disease\n",
      "--------------------\n",
      "Symptoms  ::  Fever, cough, fatigue, shortness of breath, vomiting, loss of taste or smell; some cases asymptomatic[2][3]\n",
      "--------------------\n",
      "Complications  ::  Pneumonia, viral sepsis, acute respiratory distress syndrome, kidney failure, cytokine release syndrome, respiratory failure, pulmonary fibrosis, paediatric multisystem inflammatory syndrome, long COVID\n",
      "--------------------\n",
      "Usual onset  ::  2–14 days (typically 5) from infection\n",
      "--------------------\n",
      "Duration  ::  5 days to chronic\n",
      "--------------------\n",
      "Causes  ::  Severe acute respiratory syndrome coronavirus 2 (SARS-CoV-2)\n",
      "--------------------\n",
      "Diagnostic method  ::  rRT‑PCR testing, CT scan, Rapid antigen test\n",
      "--------------------\n",
      "Prevention  ::  Vaccination,[4] face coverings, quarantine, physical/social distancing, ventilation, hand washing[5]\n",
      "--------------------\n",
      "Treatment  ::  Symptomatic and supportive\n",
      "--------------------\n",
      "Frequency  ::  653,008,258[6] confirmed cases\n",
      "--------------------\n",
      "Deaths  ::  6,665,401[6]\n",
      "--------------------\n",
      "Other names  ::  Mode of spread of COVID-19\n",
      "--------------------\n",
      "Specialty  ::  Infection prevention and control\n",
      "--------------------\n",
      "Types  ::  Respiratory droplet, airborne transmission, fomites\n",
      "--------------------\n",
      "Prevention  ::  Face coverings, quarantine, physical/social distancing, ventilation, hand washing, vaccination\n",
      "--------------------\n",
      "Coronavirus disease 2019 (COVID-19) is a contagious disease caused by a virus, the severe acute respiratory syndrome coronavirus 2 (SARS-CoV-2). The first known case was identified in Wuhan, China, in December 2019.[7] The disease quickly spread worldwide, resulting in the COVID-19 pandemic.\n",
      "\n",
      "The symptoms of COVID‑19 are variable but often include fever,[8] cough, headache,[9] fatigue, breathing difficulties, loss of smell, and loss of taste.[10][11][12] Symptoms may begin one to fourteen days after exposure to the virus. At least a third of people who are infected do not develop noticeable symptoms.[13] Of those who develop symptoms noticeable enough to be classified as patients, most (81%) develop mild to moderate symptoms (up to mild pneumonia), while 14% develop severe symptoms (dyspnea, hypoxia, or more than 50% lung involvement on imaging), and 5% develop critical symptoms (respiratory failure, shock, or multiorgan dysfunction).[14] Older people are at a higher risk of developing severe symptoms. Some people continue to experience a range of effects (long COVID) for months after recovery, and damage to organs has been observed.[15] Multi-year studies are underway to further investigate the long-term effects of the disease.[15]\n",
      "\n"
     ]
    }
   ],
   "source": [
    "import requests\n",
    "import string\n",
    "from bs4 import BeautifulSoup\n",
    "\n",
    "Enter_input = input(\"Search: \")\n",
    "u_i = string.capwords(Enter_input)\n",
    "lists = u_i.split()\n",
    "word =\"_\".join(lists)\n",
    "\n",
    "url=\"https://en.wikipedia.org/wiki/\"+word\n",
    "\n",
    "def wikibot(url):\n",
    "    url_open = requests.get(url)\n",
    "    soup = BeautifulSoup(url_open.content, 'html.parser')\n",
    "    details =soup('table',{'class':'infobox'})\n",
    "    for i in details:\n",
    "        h =i.find_all('tr')\n",
    "        for j in h:\n",
    "            heading =j.find_all('th')\n",
    "            detail =j.find_all('td')\n",
    "            if heading is not None and detail is not None:\n",
    "                for x,y in zip(heading,detail):\n",
    "                    print(\"{}  ::  {}\".format(x.text,y.text))\n",
    "                    print(\"--------------------\")\n",
    "    for i in range(1,3):\n",
    "        print(soup('p')[i].text)\n",
    "\n",
    "wikibot(url)"
   ]
  },
  {
   "cell_type": "code",
   "execution_count": null,
   "id": "31cc771f",
   "metadata": {},
   "outputs": [],
   "source": []
  }
 ],
 "metadata": {
  "kernelspec": {
   "display_name": "Python 3 (ipykernel)",
   "language": "python",
   "name": "python3"
  },
  "language_info": {
   "codemirror_mode": {
    "name": "ipython",
    "version": 3
   },
   "file_extension": ".py",
   "mimetype": "text/x-python",
   "name": "python",
   "nbconvert_exporter": "python",
   "pygments_lexer": "ipython3",
   "version": "3.9.12"
  }
 },
 "nbformat": 4,
 "nbformat_minor": 5
}
